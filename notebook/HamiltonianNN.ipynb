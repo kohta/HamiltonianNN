{
 "cells": [
  {
   "cell_type": "code",
   "execution_count": 2,
   "metadata": {},
   "outputs": [],
   "source": [
    "import jax.numpy as np\n",
    "import numpy\n",
    "import itertools\n",
    "from jax import grad, jit, vmap\n",
    "from jax import random\n",
    "from jax.experimental import optimizers\n",
    "import matplotlib.pyplot as plt"
   ]
  },
  {
   "cell_type": "code",
   "execution_count": 3,
   "metadata": {},
   "outputs": [],
   "source": [
    "def random_layer_params(indim, outdim, key, scale=1e-2):\n",
    "  w_key, b_key = random.split(key)\n",
    "  return scale * random.normal(w_key, (outdim, indim)), scale * random.normal(b_key, (outdim,))\n",
    "\n",
    "def init_network_params(sizes, key):\n",
    "  keys = random.split(key, len(sizes))\n",
    "  return [random_layer_params(m, n, k) for m, n, k in zip(sizes[:-1], sizes[1:], keys)]"
   ]
  },
  {
   "cell_type": "code",
   "execution_count": 4,
   "metadata": {},
   "outputs": [],
   "source": [
    "def generateTrajectory_HO(delta_t, nsteps, ndata, noise_scale):\n",
    "    amplitude = random.normal(key=random.PRNGKey(0), shape=(ndata, 1)) * 5\n",
    "    amplitude = np.tile(amplitude, (1, nsteps))\n",
    "    nT0 = random.normal(key=random.PRNGKey(1), shape=(ndata, 1)) * np.pi * 2\n",
    "    nT0 = np.tile(nT0, (1, nsteps))\n",
    "    ts = np.reshape(np.arange(nsteps), (1, nsteps)) * delta_t\n",
    "    ts = np.tile(ts, (ndata, 1))\n",
    "    qs = amplitude * np.sin(ts) + noise_scale * random.normal(key=random.PRNGKey(2), shape=ts.shape)\n",
    "    ps = amplitude * np.cos(ts) + noise_scale * random.normal(key=random.PRNGKey(3), shape=ts.shape)\n",
    "    q_dots = (qs[1:] - qs[:-1]) / delta_t\n",
    "    p_dots = (ps[1:] - ps[:-1]) / delta_t\n",
    "    \n",
    "    return np.stack((qs, ps), axis=2), np.stack((q_dots, p_dots), axis=2)"
   ]
  },
  {
   "cell_type": "code",
   "execution_count": 5,
   "metadata": {},
   "outputs": [],
   "source": [
    "def Hamiltonian(qp, ws):\n",
    "    for W, b in ws:\n",
    "        out = np.dot(W, qp) + b\n",
    "        qp = np.tanh(out)\n",
    "    return np.sum(out)\n",
    "\n",
    "dH = grad(Hamiltonian)\n",
    "t_dH = vmap(dH, (0, None), 0)\n",
    "bt_dH = vmap(t_dH, (0, None), 0)\n",
    "\n",
    "# qp: trajectory [t x 2]\n",
    "def loss(ws, qp, delta_t):\n",
    "    qp_dots = (qp[:, 1:, :] - qp[:, :-1, :]) / delta_t\n",
    "    dHs = bt_dH(qp, ws)\n",
    "    return np.sum((qp_dots[:, :, 0] - dHs[:, :-1, 1])**2 + (qp_dots[:, :, 1] + dHs[:, :-1, 0])**2) / len(qp)\n",
    "\n",
    "def update(i, opt_state, qp, delta_t, lr):\n",
    "    grads = grad(loss)(get_params(opt_state), qp, delta_t)    \n",
    "    return opt_update(i, grads, opt_state)"
   ]
  },
  {
   "cell_type": "code",
   "execution_count": 6,
   "metadata": {},
   "outputs": [],
   "source": [
    "# Parameters\n",
    "layer_sizes = [2, 64, 32, 1]\n",
    "delta_t = 0.1\n",
    "nsteps = 30\n",
    "ndata = 300\n",
    "noise_scale = 0.00\n",
    "nepoch = 200\n",
    "bs = 16\n",
    "lr = 5e-3"
   ]
  },
  {
   "cell_type": "code",
   "execution_count": 7,
   "metadata": {
    "scrolled": true
   },
   "outputs": [
    {
     "name": "stdout",
     "output_type": "stream",
     "text": [
      "epoch:1 loss = 414.8084\n",
      "epoch:2 loss = 778.14246\n",
      "epoch:3 loss = 772.1428\n",
      "epoch:4 loss = 806.6446\n",
      "epoch:5 loss = 663.9346\n",
      "epoch:6 loss = 568.17145\n",
      "epoch:7 loss = 315.63217\n",
      "epoch:8 loss = 750.1058\n",
      "epoch:9 loss = 584.73486\n",
      "epoch:10 loss = 511.97723\n",
      "epoch:11 loss = 389.16663\n",
      "epoch:12 loss = 204.75703\n",
      "epoch:13 loss = 273.1707\n",
      "epoch:14 loss = 343.4001\n",
      "epoch:15 loss = 362.04187\n",
      "epoch:16 loss = 329.8637\n",
      "epoch:17 loss = 131.36293\n",
      "epoch:18 loss = 61.31228\n",
      "epoch:19 loss = 256.5876\n",
      "epoch:20 loss = 719.21106\n",
      "epoch:21 loss = 73.136795\n",
      "epoch:22 loss = 284.73926\n",
      "epoch:23 loss = 91.97288\n",
      "epoch:24 loss = 316.2484\n",
      "epoch:25 loss = 215.53854\n",
      "epoch:26 loss = 528.9696\n",
      "epoch:27 loss = 15.566961\n",
      "epoch:28 loss = 511.32233\n",
      "epoch:29 loss = 32.920597\n",
      "epoch:30 loss = 761.5151\n",
      "epoch:31 loss = 8.025792\n",
      "epoch:32 loss = 288.39072\n",
      "epoch:33 loss = 433.4161\n",
      "epoch:34 loss = 28.431171\n",
      "epoch:35 loss = 13.377674\n",
      "epoch:36 loss = 76.150696\n",
      "epoch:37 loss = 26.376207\n",
      "epoch:38 loss = 278.6637\n",
      "epoch:39 loss = 13.9082575\n",
      "epoch:40 loss = 189.17137\n",
      "epoch:41 loss = 32.186703\n",
      "epoch:42 loss = 106.91501\n",
      "epoch:43 loss = 66.68591\n",
      "epoch:44 loss = 26.285065\n",
      "epoch:45 loss = 42.297066\n",
      "epoch:46 loss = 131.10922\n",
      "epoch:47 loss = 140.24838\n",
      "epoch:48 loss = 161.3721\n",
      "epoch:49 loss = 27.867422\n",
      "epoch:50 loss = 438.03946\n",
      "epoch:51 loss = 102.79138\n",
      "epoch:52 loss = 57.718613\n",
      "epoch:53 loss = 88.43255\n",
      "epoch:54 loss = 18.428837\n",
      "epoch:55 loss = 68.14747\n",
      "epoch:56 loss = 21.111183\n",
      "epoch:57 loss = 20.968088\n",
      "epoch:58 loss = 45.421154\n",
      "epoch:59 loss = 25.147831\n",
      "epoch:60 loss = 118.21039\n",
      "epoch:61 loss = 21.647198\n",
      "epoch:62 loss = 6.520076\n",
      "epoch:63 loss = 70.1515\n",
      "epoch:64 loss = 66.38104\n",
      "epoch:65 loss = 41.797035\n",
      "epoch:66 loss = 17.284952\n",
      "epoch:67 loss = 21.721313\n",
      "epoch:68 loss = 14.690172\n",
      "epoch:69 loss = 150.02982\n",
      "epoch:70 loss = 87.35843\n",
      "epoch:71 loss = 21.77346\n",
      "epoch:72 loss = 27.539263\n",
      "epoch:73 loss = 17.12587\n",
      "epoch:74 loss = 19.801422\n",
      "epoch:75 loss = 21.751345\n",
      "epoch:76 loss = 123.36396\n",
      "epoch:77 loss = 31.839458\n",
      "epoch:78 loss = 69.277664\n",
      "epoch:79 loss = 46.00087\n",
      "epoch:80 loss = 82.393616\n",
      "epoch:81 loss = 255.66832\n",
      "epoch:82 loss = 9.200647\n",
      "epoch:83 loss = 9.694391\n",
      "epoch:84 loss = 200.55316\n",
      "epoch:85 loss = 6.5235233\n",
      "epoch:86 loss = 25.775434\n",
      "epoch:87 loss = 51.425243\n",
      "epoch:88 loss = 10.60742\n",
      "epoch:89 loss = 4.605992\n",
      "epoch:90 loss = 8.282949\n",
      "epoch:91 loss = 37.462204\n",
      "epoch:92 loss = 2.2005827\n",
      "epoch:93 loss = 11.680972\n",
      "epoch:94 loss = 9.16984\n",
      "epoch:95 loss = 5.2653117\n",
      "epoch:96 loss = 32.521614\n",
      "epoch:97 loss = 19.767872\n",
      "epoch:98 loss = 23.338123\n",
      "epoch:99 loss = 3.1617894\n",
      "epoch:100 loss = 8.7917\n",
      "epoch:101 loss = 4.8851676\n",
      "epoch:102 loss = 12.202755\n",
      "epoch:103 loss = 45.324986\n",
      "epoch:104 loss = 6.765231\n",
      "epoch:105 loss = 24.715666\n",
      "epoch:106 loss = 42.442238\n",
      "epoch:107 loss = 5.79633\n",
      "epoch:108 loss = 10.5008\n",
      "epoch:109 loss = 7.5493636\n",
      "epoch:110 loss = 24.738808\n",
      "epoch:111 loss = 19.138878\n",
      "epoch:112 loss = 8.689586\n",
      "epoch:113 loss = 19.969898\n",
      "epoch:114 loss = 7.200344\n",
      "epoch:115 loss = 11.963474\n",
      "epoch:116 loss = 9.778795\n",
      "epoch:117 loss = 3.0198216\n",
      "epoch:118 loss = 17.05012\n",
      "epoch:119 loss = 6.3266287\n",
      "epoch:120 loss = 4.85643\n",
      "epoch:121 loss = 8.890875\n",
      "epoch:122 loss = 34.877354\n",
      "epoch:123 loss = 13.538391\n",
      "epoch:124 loss = 6.0830655\n",
      "epoch:125 loss = 83.36142\n",
      "epoch:126 loss = 8.683529\n",
      "epoch:127 loss = 4.531329\n",
      "epoch:128 loss = 11.8937235\n",
      "epoch:129 loss = 5.2605634\n",
      "epoch:130 loss = 5.39694\n",
      "epoch:131 loss = 3.4476213\n",
      "epoch:132 loss = 24.349157\n",
      "epoch:133 loss = 4.865192\n",
      "epoch:134 loss = 8.6016245\n",
      "epoch:135 loss = 5.1740465\n",
      "epoch:136 loss = 6.280361\n",
      "epoch:137 loss = 7.2251296\n",
      "epoch:138 loss = 13.457064\n",
      "epoch:139 loss = 5.0758467\n",
      "epoch:140 loss = 3.5754626\n",
      "epoch:141 loss = 5.5522366\n",
      "epoch:142 loss = 5.8032556\n",
      "epoch:143 loss = 1.7821547\n",
      "epoch:144 loss = 13.660511\n",
      "epoch:145 loss = 6.338167\n",
      "epoch:146 loss = 3.4699688\n",
      "epoch:147 loss = 3.7712061\n",
      "epoch:148 loss = 1.7987082\n",
      "epoch:149 loss = 4.518513\n",
      "epoch:150 loss = 2.930019\n",
      "epoch:151 loss = 4.8106246\n",
      "epoch:152 loss = 16.58254\n",
      "epoch:153 loss = 50.210182\n",
      "epoch:154 loss = 29.197174\n",
      "epoch:155 loss = 6.3711357\n",
      "epoch:156 loss = 8.041367\n",
      "epoch:157 loss = 9.662806\n",
      "epoch:158 loss = 2.9738936\n",
      "epoch:159 loss = 3.229528\n",
      "epoch:160 loss = 4.6799817\n",
      "epoch:161 loss = 3.2288406\n",
      "epoch:162 loss = 1.7836523\n",
      "epoch:163 loss = 2.1272235\n",
      "epoch:164 loss = 2.0301695\n",
      "epoch:165 loss = 4.2817993\n",
      "epoch:166 loss = 8.276171\n",
      "epoch:167 loss = 3.159087\n",
      "epoch:168 loss = 4.3533688\n",
      "epoch:169 loss = 2.6291504\n",
      "epoch:170 loss = 1.4709175\n",
      "epoch:171 loss = 2.25418\n",
      "epoch:172 loss = 1.573499\n",
      "epoch:173 loss = 2.4206722\n",
      "epoch:174 loss = 10.22646\n",
      "epoch:175 loss = 5.7144423\n",
      "epoch:176 loss = 41.11438\n",
      "epoch:177 loss = 18.488518\n",
      "epoch:178 loss = 16.988117\n",
      "epoch:179 loss = 5.2597218\n",
      "epoch:180 loss = 3.8941228\n",
      "epoch:181 loss = 13.454633\n",
      "epoch:182 loss = 2.3231893\n",
      "epoch:183 loss = 2.6213193\n",
      "epoch:184 loss = 6.7516117\n",
      "epoch:185 loss = 3.4574363\n",
      "epoch:186 loss = 5.151855\n",
      "epoch:187 loss = 3.1747484\n",
      "epoch:188 loss = 2.642282\n",
      "epoch:189 loss = 6.704673\n",
      "epoch:190 loss = 34.14328\n",
      "epoch:191 loss = 9.564424\n",
      "epoch:192 loss = 1.6888762\n",
      "epoch:193 loss = 5.1606774\n",
      "epoch:194 loss = 3.6769822\n",
      "epoch:195 loss = 2.177653\n",
      "epoch:196 loss = 3.298512\n",
      "epoch:197 loss = 3.257844\n",
      "epoch:198 loss = 2.3220787\n",
      "epoch:199 loss = 3.6851954\n",
      "epoch:200 loss = 1.79362\n"
     ]
    },
    {
     "data": {
      "text/plain": [
       "[<matplotlib.lines.Line2D at 0x7f4c50470630>]"
      ]
     },
     "execution_count": 7,
     "metadata": {},
     "output_type": "execute_result"
    },
    {
     "data": {
      "image/png": "[encoded data removed]",
      "text/plain": [
       "<Figure size 432x288 with 1 Axes>"
      ]
     },
     "metadata": {
      "needs_background": "light"
     },
     "output_type": "display_data"
    }
   ],
   "source": [
    "# Data\n",
    "qps, qp_dots = generateTrajectory_HO(delta_t, nsteps, ndata, noise_scale)\n",
    "# Init\n",
    "ws = init_network_params(layer_sizes, random.PRNGKey(0))\n",
    "opt_init, opt_update, get_params = optimizers.adam(lr)\n",
    "opt_state = opt_init(ws)\n",
    "itercount = itertools.count()\n",
    "# Learn\n",
    "losses = np.array([])\n",
    "for epoch in range(nepoch):\n",
    "    inds = numpy.random.permutation(ndata)\n",
    "    for i in range(int(nepoch / bs)):\n",
    "        qp_batch = qps[inds[i * bs:(i+1) * bs], :, :]\n",
    "        opt_state = update(next(itercount), opt_state, qp_batch, delta_t, lr)\n",
    "    l = loss(get_params(opt_state), qp_batch, delta_t)\n",
    "    losses = np.append(losses, l)\n",
    "    print('epoch:' + str(epoch + 1) + ' loss = ' + str(loss(get_params(opt_state), qp_batch, delta_t)))\n",
    "\n",
    "plt.plot(losses)\n"
   ]
  },
  {
   "cell_type": "code",
   "execution_count": 9,
   "metadata": {},
   "outputs": [
    {
     "data": {
      "text/plain": [
       "<matplotlib.image.AxesImage at 0x7f4c507d29b0>"
      ]
     },
     "execution_count": 9,
     "metadata": {},
     "output_type": "execute_result"
    },
    {
     "data": {
      "image/png": "[encoded data removed]",
      "text/plain": [
       "<Figure size 432x288 with 1 Axes>"
      ]
     },
     "metadata": {
      "needs_background": "light"
     },
     "output_type": "display_data"
    }
   ],
   "source": [
    "q_grid, p_grid = np.meshgrid(np.linspace(0,1,101) - 0.5, np.linspace(0,1,101) - 0.5)\n",
    "grid_shape = q_grid.shape\n",
    "q_grid = np.reshape(q_grid, (int(np.prod(q_grid.shape)))) * 5\n",
    "p_grid = np.reshape(p_grid, (int(np.prod(p_grid.shape)))) * 5\n",
    "qp_grid = np.stack((q_grid, p_grid))\n",
    "qp_grid = np.transpose(qp_grid)\n",
    "\n",
    "b_H = vmap(Hamiltonian, (0, None), 0)\n",
    "H_grid = b_H(qp_grid, get_params(opt_state))\n",
    "H_grid = np.reshape(H_grid, grid_shape)\n",
    "plt.imshow(H_grid)"
   ]
  },
  {
   "cell_type": "code",
   "execution_count": 42,
   "metadata": {
    "scrolled": true
   },
   "outputs": [
    {
     "name": "stdout",
     "output_type": "stream",
     "text": [
      "(5, 10, 2)\n",
      "(32,)\n",
      "(16,)\n",
      "-0.004826009\n",
      "<function grad.<locals>.grad_f at 0x7fd76c776950>\n",
      "[[-2.1805317e-07  9.7214370e-06]\n",
      " [-2.2863787e-07  9.7248085e-06]\n",
      " [-2.2877975e-07  9.7253642e-06]\n",
      " [-2.1655251e-07  9.7174088e-06]\n",
      " [-2.3127541e-07  9.7240209e-06]\n",
      " [-2.1911728e-07  9.7269140e-06]\n",
      " [-2.5048757e-07  9.7178745e-06]\n",
      " [-2.2355380e-07  9.7176217e-06]\n",
      " [-2.7147144e-07  9.7103566e-06]\n",
      " [-1.9991603e-07  9.6914773e-06]]\n",
      "[[[-2.1805499e-07  9.7214333e-06]\n",
      "  [-2.2864151e-07  9.7248085e-06]\n",
      "  [-2.2877794e-07  9.7253596e-06]\n",
      "  [-2.1655978e-07  9.7174106e-06]\n",
      "  [-2.3126813e-07  9.7240281e-06]\n",
      "  [-2.1911910e-07  9.7269130e-06]\n",
      "  [-2.5048575e-07  9.7178763e-06]\n",
      "  [-2.2355016e-07  9.7176217e-06]\n",
      "  [-2.7147144e-07  9.7103557e-06]\n",
      "  [-1.9991421e-07  9.6914773e-06]]\n",
      "\n",
      " [[-1.7037200e-07  9.6028980e-06]\n",
      "  [-1.5736987e-07  9.5639953e-06]\n",
      "  [-2.0355401e-07  9.6161493e-06]\n",
      "  [-2.2893801e-07  9.5192463e-06]\n",
      "  [-1.7566344e-07  9.5654395e-06]\n",
      "  [-1.5448859e-07  9.5005435e-06]\n",
      "  [-9.8429155e-08  9.4228544e-06]\n",
      "  [-1.8474202e-07  9.5067144e-06]\n",
      "  [-2.2378481e-07  9.5700962e-06]\n",
      "  [-1.8357605e-07  9.4023217e-06]]\n",
      "\n",
      " [[-2.1312189e-07  9.7036927e-06]\n",
      "  [-2.1693450e-07  9.7219963e-06]\n",
      "  [-2.1753840e-07  9.7172742e-06]\n",
      "  [-2.3223947e-07  9.7225457e-06]\n",
      "  [-2.1996675e-07  9.7262055e-06]\n",
      "  [-2.0830703e-07  9.6962158e-06]\n",
      "  [-2.1862434e-07  9.7272596e-06]\n",
      "  [-2.2370295e-07  9.7224547e-06]\n",
      "  [-2.2099266e-07  9.7259917e-06]\n",
      "  [-2.1746382e-07  9.7222137e-06]]\n",
      "\n",
      " [[-1.4909529e-07  9.5375872e-06]\n",
      "  [-1.4915713e-07  9.5123387e-06]\n",
      "  [-7.3898264e-08  9.3856634e-06]\n",
      "  [-1.9801701e-07  9.5213545e-06]\n",
      "  [-1.7752245e-07  9.5815976e-06]\n",
      "  [-1.6744343e-07  9.4438928e-06]\n",
      "  [-2.0646257e-07  9.5939531e-06]\n",
      "  [-1.9699473e-07  9.6014373e-06]\n",
      "  [-2.5074041e-07  9.6358463e-06]\n",
      "  [-1.7688944e-07  9.4536554e-06]]\n",
      "\n",
      " [[-2.2380300e-07  9.7252141e-06]\n",
      "  [-2.1399865e-07  9.7201419e-06]\n",
      "  [-2.2072527e-07  9.7257926e-06]\n",
      "  [-2.1941378e-07  9.7204975e-06]\n",
      "  [-1.9095569e-07  9.6731692e-06]\n",
      "  [-2.1586493e-07  9.7067177e-06]\n",
      "  [-2.2242602e-07  9.7244319e-06]\n",
      "  [-2.2441600e-07  9.7267093e-06]\n",
      "  [-2.2296445e-07  9.7217580e-06]\n",
      "  [-2.2419772e-07  9.7055818e-06]]]\n",
      "(5, 10, 2)\n"
     ]
    }
   ],
   "source": [
    "# Hamiltonian test\n",
    "qp, qp_dot = generateTrajectory_HO(0.01, 10, 5, 1)\n",
    "layer_sizes = [2, 32, 16, 1]\n",
    "ws = init_network_params(layer_sizes, random.PRNGKey(0))\n",
    "print(qp.shape)\n",
    "tmp = np.dot(ws[0][0], qp[0,0,:])\n",
    "print(tmp.shape)\n",
    "tmp = np.dot(ws[1][0], tmp)\n",
    "print(tmp.shape)\n",
    "print(Hamiltonian(qp[0,0,:], ws))\n",
    "print(dH)\n",
    "print(t_dH(qp[0,:,:], ws))\n",
    "print(bt_dH(qp, ws))\n",
    "print(bt_dH(qp, ws).shape)"
   ]
  },
  {
   "cell_type": "code",
   "execution_count": 31,
   "metadata": {},
   "outputs": [
    {
     "name": "stdout",
     "output_type": "stream",
     "text": [
      "(5, 10, 2)\n",
      "290058.66\n"
     ]
    }
   ],
   "source": [
    "# loss test\n",
    "print(qp.shape)\n",
    "print(loss(ws, qp, delta_t))\n",
    "#print(b_loss(ws, qp, delta_t))"
   ]
  },
  {
   "cell_type": "code",
   "execution_count": 10,
   "metadata": {},
   "outputs": [],
   "source": [
    "# Data test\n",
    "qps, qp_dots = generateTrajectory_HO(delta_t, nsteps, ndata, noise_scale)"
   ]
  },
  {
   "cell_type": "code",
   "execution_count": 12,
   "metadata": {},
   "outputs": [
    {
     "data": {
      "image/png": "[encoded data removed]",
      "text/plain": [
       "<Figure size 432x288 with 1 Axes>"
      ]
     },
     "metadata": {
      "needs_background": "light"
     },
     "output_type": "display_data"
    }
   ],
   "source": [
    "plt.plot(qps[0, :, 0])\n",
    "plt.plot(qps[0, :, 1])\n",
    "plt.show()"
   ]
  },
  {
   "cell_type": "code",
   "execution_count": null,
   "metadata": {},
   "outputs": [],
   "source": []
  }
 ],
 "metadata": {
  "kernelspec": {
   "display_name": "Python 3",
   "language": "python",
   "name": "python3"
  },
  "language_info": {
   "codemirror_mode": {
    "name": "ipython",
    "version": 3
   },
   "file_extension": ".py",
   "mimetype": "text/x-python",
   "name": "python",
   "nbconvert_exporter": "python",
   "pygments_lexer": "ipython3",
   "version": "3.7.3"
  }
 },
 "nbformat": 4,
 "nbformat_minor": 2
}
